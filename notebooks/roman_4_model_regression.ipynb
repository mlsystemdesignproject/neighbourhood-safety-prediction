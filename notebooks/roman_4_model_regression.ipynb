{
 "cells": [
  {
   "cell_type": "code",
   "execution_count": 1,
   "id": "0c50bf82-f99b-4593-852b-528443fb05c3",
   "metadata": {},
   "outputs": [],
   "source": [
    "import sys\n",
    "import itertools\n",
    "from datetime import datetime, timedelta\n",
    "\n",
    "import pandas as pd\n",
    "import numpy as np\n",
    "from tqdm import tqdm\n",
    "import matplotlib.pyplot as plt\n",
    "from sklearn.metrics import mean_squared_error, mean_absolute_error\n",
    "from statsmodels.tsa.holtwinters import ExponentialSmoothing\n",
    "from sklearn.preprocessing import MinMaxScaler\n",
    "\n",
    "# Add utils from /src\n",
    "sys.path.append(\"../src\")\n",
    "from neighbourhood.utils.metrics import smape, wmape"
   ]
  },
  {
   "cell_type": "code",
   "execution_count": 2,
   "id": "de690f6d-af42-4b8d-a31d-67c98d008608",
   "metadata": {},
   "outputs": [],
   "source": [
    "df = pd.read_csv('../data/MPS/agg_filtered_boroughs_weekends.csv')\n",
    "df[\"TimePeriod\"] = pd.to_datetime(df.TimePeriod)"
   ]
  },
  {
   "cell_type": "code",
   "execution_count": 3,
   "id": "eb4de68c-b1fe-4148-9cfc-b1d8eaceec18",
   "metadata": {},
   "outputs": [
    {
     "data": {
      "text/html": [
       "<div>\n",
       "<style scoped>\n",
       "    .dataframe tbody tr th:only-of-type {\n",
       "        vertical-align: middle;\n",
       "    }\n",
       "\n",
       "    .dataframe tbody tr th {\n",
       "        vertical-align: top;\n",
       "    }\n",
       "\n",
       "    .dataframe thead th {\n",
       "        text-align: right;\n",
       "    }\n",
       "</style>\n",
       "<table border=\"1\" class=\"dataframe\">\n",
       "  <thead>\n",
       "    <tr style=\"text-align: right;\">\n",
       "      <th></th>\n",
       "      <th>BoroughName</th>\n",
       "      <th>CrimeType</th>\n",
       "      <th>CrimeSubtype</th>\n",
       "      <th>TimePeriod</th>\n",
       "      <th>Value</th>\n",
       "      <th>WorkingDays</th>\n",
       "      <th>Weekends</th>\n",
       "    </tr>\n",
       "  </thead>\n",
       "  <tbody>\n",
       "    <tr>\n",
       "      <th>0</th>\n",
       "      <td>Barking and Dagenham</td>\n",
       "      <td>Arson and Criminal Damage</td>\n",
       "      <td>Arson</td>\n",
       "      <td>2010-04-01</td>\n",
       "      <td>6</td>\n",
       "      <td>20</td>\n",
       "      <td>10</td>\n",
       "    </tr>\n",
       "    <tr>\n",
       "      <th>1</th>\n",
       "      <td>Barking and Dagenham</td>\n",
       "      <td>Arson and Criminal Damage</td>\n",
       "      <td>Criminal Damage</td>\n",
       "      <td>2010-04-01</td>\n",
       "      <td>208</td>\n",
       "      <td>20</td>\n",
       "      <td>10</td>\n",
       "    </tr>\n",
       "    <tr>\n",
       "      <th>2</th>\n",
       "      <td>Barking and Dagenham</td>\n",
       "      <td>Burglary</td>\n",
       "      <td>Burglary Business and Community</td>\n",
       "      <td>2010-04-01</td>\n",
       "      <td>49</td>\n",
       "      <td>20</td>\n",
       "      <td>10</td>\n",
       "    </tr>\n",
       "    <tr>\n",
       "      <th>3</th>\n",
       "      <td>Barking and Dagenham</td>\n",
       "      <td>Burglary</td>\n",
       "      <td>Domestic Burglary</td>\n",
       "      <td>2010-04-01</td>\n",
       "      <td>118</td>\n",
       "      <td>20</td>\n",
       "      <td>10</td>\n",
       "    </tr>\n",
       "    <tr>\n",
       "      <th>4</th>\n",
       "      <td>Barking and Dagenham</td>\n",
       "      <td>Drug Offences</td>\n",
       "      <td>Drug Trafficking</td>\n",
       "      <td>2010-04-01</td>\n",
       "      <td>9</td>\n",
       "      <td>20</td>\n",
       "      <td>10</td>\n",
       "    </tr>\n",
       "  </tbody>\n",
       "</table>\n",
       "</div>"
      ],
      "text/plain": [
       "            BoroughName                  CrimeType  \\\n",
       "0  Barking and Dagenham  Arson and Criminal Damage   \n",
       "1  Barking and Dagenham  Arson and Criminal Damage   \n",
       "2  Barking and Dagenham                   Burglary   \n",
       "3  Barking and Dagenham                   Burglary   \n",
       "4  Barking and Dagenham              Drug Offences   \n",
       "\n",
       "                      CrimeSubtype TimePeriod  Value  WorkingDays  Weekends  \n",
       "0                            Arson 2010-04-01      6           20        10  \n",
       "1                  Criminal Damage 2010-04-01    208           20        10  \n",
       "2  Burglary Business and Community 2010-04-01     49           20        10  \n",
       "3                Domestic Burglary 2010-04-01    118           20        10  \n",
       "4                 Drug Trafficking 2010-04-01      9           20        10  "
      ]
     },
     "execution_count": 3,
     "metadata": {},
     "output_type": "execute_result"
    }
   ],
   "source": [
    "df.head()"
   ]
  },
  {
   "cell_type": "markdown",
   "id": "22a01e32-7190-4b25-ba90-206799efb64e",
   "metadata": {},
   "source": [
    "# Модель CatBoostRegressor\n",
    "\n",
    "Добавляем временные фичи (лаги), добавляем категориальные фичи (районы и тип преступления), добавляем другие фичи.  \n",
    "Строим одну общую регрессионуню модель, которая делает предсказания на следующие 12 месяцев.\n",
    "\n",
    "Поэтому нам нужно 12 лагов, чтобы это реализовать.\n"
   ]
  },
  {
   "cell_type": "code",
   "execution_count": null,
   "id": "b0d06650-1f44-493f-bb7e-5495bd72ce3b",
   "metadata": {},
   "outputs": [],
   "source": []
  }
 ],
 "metadata": {
  "kernelspec": {
   "display_name": "Python 3 (ipykernel)",
   "language": "python",
   "name": "python3"
  },
  "language_info": {
   "codemirror_mode": {
    "name": "ipython",
    "version": 3
   },
   "file_extension": ".py",
   "mimetype": "text/x-python",
   "name": "python",
   "nbconvert_exporter": "python",
   "pygments_lexer": "ipython3",
   "version": "3.8.10"
  }
 },
 "nbformat": 4,
 "nbformat_minor": 5
}
