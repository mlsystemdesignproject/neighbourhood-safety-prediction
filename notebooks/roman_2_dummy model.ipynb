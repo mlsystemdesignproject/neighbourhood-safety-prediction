{
 "cells": [
  {
   "cell_type": "code",
   "execution_count": 50,
   "id": "24de1633-2e7f-4e05-962e-68f3a160ce58",
   "metadata": {},
   "outputs": [],
   "source": [
    "import pandas as pd\n",
    "import numpy as np\n",
    "\n",
    "from sklearn.linear_model import ElasticNet\n",
    "from sklearn.metrics import mean_absolute_error, mean_squared_error, r2_score\n",
    "from sklearn.model_selection import train_test_split\n",
    "from sklearn.feature_extraction import DictVectorizer\n",
    "from sklearn.ensemble import RandomForestRegressor"
   ]
  },
  {
   "cell_type": "code",
   "execution_count": 3,
   "id": "090ad5ac-e953-42d6-86b4-06e51d66681a",
   "metadata": {},
   "outputs": [],
   "source": [
    "path = \"../data/MPS/agg_filtered_boroughs_weekends.csv\""
   ]
  },
  {
   "cell_type": "code",
   "execution_count": 18,
   "id": "86285498-8910-459d-a95e-be4c8028d063",
   "metadata": {},
   "outputs": [],
   "source": [
    "df = pd.read_csv(path)\n",
    "df.TimePeriod = pd.to_datetime(df.TimePeriod)"
   ]
  },
  {
   "cell_type": "code",
   "execution_count": 36,
   "id": "c4299fd5-7c61-4539-8204-20d8eb39f6b3",
   "metadata": {},
   "outputs": [
    {
     "data": {
      "text/html": [
       "<div>\n",
       "<style scoped>\n",
       "    .dataframe tbody tr th:only-of-type {\n",
       "        vertical-align: middle;\n",
       "    }\n",
       "\n",
       "    .dataframe tbody tr th {\n",
       "        vertical-align: top;\n",
       "    }\n",
       "\n",
       "    .dataframe thead th {\n",
       "        text-align: right;\n",
       "    }\n",
       "</style>\n",
       "<table border=\"1\" class=\"dataframe\">\n",
       "  <thead>\n",
       "    <tr style=\"text-align: right;\">\n",
       "      <th></th>\n",
       "      <th>BoroughName</th>\n",
       "      <th>CrimeType</th>\n",
       "      <th>CrimeSubtype</th>\n",
       "      <th>TimePeriod</th>\n",
       "      <th>Value</th>\n",
       "      <th>WorkingDays</th>\n",
       "      <th>Weekends</th>\n",
       "    </tr>\n",
       "  </thead>\n",
       "  <tbody>\n",
       "    <tr>\n",
       "      <th>0</th>\n",
       "      <td>Barking and Dagenham</td>\n",
       "      <td>Arson and Criminal Damage</td>\n",
       "      <td>Arson</td>\n",
       "      <td>2010-04-01</td>\n",
       "      <td>6</td>\n",
       "      <td>20</td>\n",
       "      <td>10</td>\n",
       "    </tr>\n",
       "    <tr>\n",
       "      <th>1</th>\n",
       "      <td>Barking and Dagenham</td>\n",
       "      <td>Arson and Criminal Damage</td>\n",
       "      <td>Criminal Damage</td>\n",
       "      <td>2010-04-01</td>\n",
       "      <td>208</td>\n",
       "      <td>20</td>\n",
       "      <td>10</td>\n",
       "    </tr>\n",
       "    <tr>\n",
       "      <th>2</th>\n",
       "      <td>Barking and Dagenham</td>\n",
       "      <td>Burglary</td>\n",
       "      <td>Burglary Business and Community</td>\n",
       "      <td>2010-04-01</td>\n",
       "      <td>49</td>\n",
       "      <td>20</td>\n",
       "      <td>10</td>\n",
       "    </tr>\n",
       "    <tr>\n",
       "      <th>3</th>\n",
       "      <td>Barking and Dagenham</td>\n",
       "      <td>Burglary</td>\n",
       "      <td>Domestic Burglary</td>\n",
       "      <td>2010-04-01</td>\n",
       "      <td>118</td>\n",
       "      <td>20</td>\n",
       "      <td>10</td>\n",
       "    </tr>\n",
       "    <tr>\n",
       "      <th>4</th>\n",
       "      <td>Barking and Dagenham</td>\n",
       "      <td>Drug Offences</td>\n",
       "      <td>Drug Trafficking</td>\n",
       "      <td>2010-04-01</td>\n",
       "      <td>9</td>\n",
       "      <td>20</td>\n",
       "      <td>10</td>\n",
       "    </tr>\n",
       "  </tbody>\n",
       "</table>\n",
       "</div>"
      ],
      "text/plain": [
       "            BoroughName                  CrimeType  \\\n",
       "0  Barking and Dagenham  Arson and Criminal Damage   \n",
       "1  Barking and Dagenham  Arson and Criminal Damage   \n",
       "2  Barking and Dagenham                   Burglary   \n",
       "3  Barking and Dagenham                   Burglary   \n",
       "4  Barking and Dagenham              Drug Offences   \n",
       "\n",
       "                      CrimeSubtype TimePeriod  Value  WorkingDays  Weekends  \n",
       "0                            Arson 2010-04-01      6           20        10  \n",
       "1                  Criminal Damage 2010-04-01    208           20        10  \n",
       "2  Burglary Business and Community 2010-04-01     49           20        10  \n",
       "3                Domestic Burglary 2010-04-01    118           20        10  \n",
       "4                 Drug Trafficking 2010-04-01      9           20        10  "
      ]
     },
     "execution_count": 36,
     "metadata": {},
     "output_type": "execute_result"
    }
   ],
   "source": [
    "df.head()"
   ]
  },
  {
   "cell_type": "code",
   "execution_count": 6,
   "id": "b4c7c365-57f1-4753-80db-08f6d7633e6d",
   "metadata": {},
   "outputs": [
    {
     "name": "stdout",
     "output_type": "stream",
     "text": [
      "<class 'pandas.core.frame.DataFrame'>\n",
      "RangeIndex: 266921 entries, 0 to 266920\n",
      "Data columns (total 7 columns):\n",
      " #   Column        Non-Null Count   Dtype         \n",
      "---  ------        --------------   -----         \n",
      " 0   BoroughName   266921 non-null  object        \n",
      " 1   CrimeType     266921 non-null  object        \n",
      " 2   CrimeSubtype  266921 non-null  object        \n",
      " 3   TimePeriod    266921 non-null  datetime64[ns]\n",
      " 4   Value         266921 non-null  int64         \n",
      " 5   WorkingDays   266921 non-null  int64         \n",
      " 6   Weekends      266921 non-null  int64         \n",
      "dtypes: datetime64[ns](1), int64(3), object(3)\n",
      "memory usage: 14.3+ MB\n"
     ]
    }
   ],
   "source": [
    "df.info()"
   ]
  },
  {
   "cell_type": "markdown",
   "id": "4b7403ac-edb5-4bd0-8e52-eb2ad39a50af",
   "metadata": {},
   "source": [
    "# Transorm dataframe"
   ]
  },
  {
   "cell_type": "markdown",
   "id": "a5abaeda-03e8-41d4-81c5-7d88ce16db89",
   "metadata": {},
   "source": [
    "### Make dict vectorizer for BoroughName and CrimeSubtype, date features"
   ]
  },
  {
   "cell_type": "code",
   "execution_count": 37,
   "id": "814a75cf-a0b2-443d-a400-28f7f3dd8a59",
   "metadata": {},
   "outputs": [],
   "source": [
    "def makeX(df):\n",
    "    df_new = df[['WorkingDays', 'Weekends']].copy()\n",
    "    df_new[\"year\"] = df.TimePeriod.dt.year\n",
    "    df_new[\"month\"] = df.TimePeriod.dt.month\n",
    "\n",
    "    vec = DictVectorizer()\n",
    "\n",
    "    # Convert the selected columns to dictionary and vectorize\n",
    "    df_dict = df[['BoroughName', 'CrimeSubtype']].to_dict('records')\n",
    "    vectorized_data = vec.fit_transform(df_dict).toarray()\n",
    "    df_vectorized = pd.DataFrame(vectorized_data, columns=vec.feature_names_)\n",
    "    \n",
    "    df_new = pd.concat([df_new, df_vectorized], axis=1)\n",
    "    \n",
    "    return df_new"
   ]
  },
  {
   "cell_type": "markdown",
   "id": "462e8d0b-0eb7-49cf-be10-66f8dae8b6f9",
   "metadata": {},
   "source": [
    "### Prepare X and y"
   ]
  },
  {
   "cell_type": "code",
   "execution_count": 39,
   "id": "8a5c1044-2661-4d92-abd4-e9464d41d31c",
   "metadata": {},
   "outputs": [],
   "source": [
    "X = makeX(df)\n",
    "y = df['Value']\n",
    "\n",
    "X_train, X_test, y_train, y_test = train_test_split(X, y, test_size=0.2, shuffle=False)"
   ]
  },
  {
   "cell_type": "markdown",
   "id": "bde68168-0989-4d32-883b-eea5abb9ff34",
   "metadata": {},
   "source": [
    "### Train the model"
   ]
  },
  {
   "cell_type": "code",
   "execution_count": 48,
   "id": "723699ba-119d-47f2-9233-97eea8f6d7c3",
   "metadata": {},
   "outputs": [],
   "source": [
    "def eval_metrics(actual, pred):\n",
    "    rmse = np.sqrt(mean_squared_error(actual, pred))\n",
    "    mae = mean_absolute_error(actual, pred)\n",
    "    r2 = r2_score(actual, pred)\n",
    "    return rmse, mae, r2"
   ]
  },
  {
   "cell_type": "code",
   "execution_count": 47,
   "id": "a995dd3b-6b94-4308-9111-6aad269cc746",
   "metadata": {},
   "outputs": [],
   "source": [
    "alpha = 0.5\n",
    "l1_ratio = 0.5"
   ]
  },
  {
   "cell_type": "code",
   "execution_count": 58,
   "id": "86670280-deb3-428e-8df9-5c811e4a144e",
   "metadata": {},
   "outputs": [
    {
     "name": "stdout",
     "output_type": "stream",
     "text": [
      "Elasticnet model (alpha=0.500000, l1_ratio=0.500000):\n",
      "  RMSE: 97.61267123552098\n",
      "  MAE: 52.71150117353197\n",
      "  R2: 0.06709294659355103\n",
      "CPU times: user 4.48 s, sys: 16 s, total: 20.4 s\n",
      "Wall time: 3.83 s\n"
     ]
    }
   ],
   "source": [
    "%%time\n",
    "lr = ElasticNet(alpha=alpha, l1_ratio=l1_ratio, random_state=42)\n",
    "lr.fit(X_train, y_train)\n",
    "\n",
    "predicted_qualities = lr.predict(X_test)\n",
    "\n",
    "(rmse, mae, r2) = eval_metrics(y_test, predicted_qualities)\n",
    "\n",
    "print(f\"Elasticnet model (alpha={alpha:f}, l1_ratio={l1_ratio:f}):\")\n",
    "print(f\"  RMSE: {rmse}\")\n",
    "print(f\"  MAE: {mae}\")\n",
    "print(f\"  R2: {r2}\")"
   ]
  },
  {
   "cell_type": "markdown",
   "id": "57ddd910-2b54-4964-990e-b1d688246fb1",
   "metadata": {},
   "source": [
    "### Second model"
   ]
  },
  {
   "cell_type": "code",
   "execution_count": 60,
   "id": "0818c11f-8e63-4ab6-aad2-1f46a55ac34a",
   "metadata": {},
   "outputs": [
    {
     "name": "stdout",
     "output_type": "stream",
     "text": [
      "Random forest:\n",
      "  RMSE: 46.733928774680045\n",
      "  MAE: 11.982345228060316\n",
      "  R2: 0.7861592022463404\n",
      "CPU times: user 31.3 s, sys: 57.8 ms, total: 31.3 s\n",
      "Wall time: 31.3 s\n"
     ]
    }
   ],
   "source": [
    "%%time\n",
    "\n",
    "forest = RandomForestRegressor(10, random_state=42)\n",
    "forest.fit(X_train, y_train)\n",
    "\n",
    "predicted_qualities2 = forest.predict(X_test)\n",
    "\n",
    "(rmse, mae, r2) = eval_metrics(y_test, predicted_qualities2)\n",
    "\n",
    "print(f\"Random forest:\")\n",
    "print(f\"  RMSE: {rmse}\")\n",
    "print(f\"  MAE: {mae}\")\n",
    "print(f\"  R2: {r2}\")"
   ]
  },
  {
   "cell_type": "code",
   "execution_count": null,
   "id": "8c48174e-9ed5-414b-bd7d-c561d3f96203",
   "metadata": {},
   "outputs": [],
   "source": []
  },
  {
   "cell_type": "code",
   "execution_count": 63,
   "id": "663c5265-4cb0-4bbd-a994-0f937f08594e",
   "metadata": {},
   "outputs": [
    {
     "data": {
      "text/html": [
       "<div>\n",
       "<style scoped>\n",
       "    .dataframe tbody tr th:only-of-type {\n",
       "        vertical-align: middle;\n",
       "    }\n",
       "\n",
       "    .dataframe tbody tr th {\n",
       "        vertical-align: top;\n",
       "    }\n",
       "\n",
       "    .dataframe thead th {\n",
       "        text-align: right;\n",
       "    }\n",
       "</style>\n",
       "<table border=\"1\" class=\"dataframe\">\n",
       "  <thead>\n",
       "    <tr style=\"text-align: right;\">\n",
       "      <th></th>\n",
       "      <th>fact</th>\n",
       "      <th>predict lr</th>\n",
       "      <th>predict_rf</th>\n",
       "    </tr>\n",
       "  </thead>\n",
       "  <tbody>\n",
       "    <tr>\n",
       "      <th>213541</th>\n",
       "      <td>21</td>\n",
       "      <td>39.57</td>\n",
       "      <td>14.1</td>\n",
       "    </tr>\n",
       "    <tr>\n",
       "      <th>213558</th>\n",
       "      <td>98</td>\n",
       "      <td>41.86</td>\n",
       "      <td>110.2</td>\n",
       "    </tr>\n",
       "    <tr>\n",
       "      <th>213559</th>\n",
       "      <td>22</td>\n",
       "      <td>40.58</td>\n",
       "      <td>25.1</td>\n",
       "    </tr>\n",
       "    <tr>\n",
       "      <th>213562</th>\n",
       "      <td>101</td>\n",
       "      <td>42.75</td>\n",
       "      <td>120.5</td>\n",
       "    </tr>\n",
       "    <tr>\n",
       "      <th>213563</th>\n",
       "      <td>42</td>\n",
       "      <td>41.10</td>\n",
       "      <td>42.6</td>\n",
       "    </tr>\n",
       "    <tr>\n",
       "      <th>213565</th>\n",
       "      <td>22</td>\n",
       "      <td>41.22</td>\n",
       "      <td>18.9</td>\n",
       "    </tr>\n",
       "    <tr>\n",
       "      <th>213566</th>\n",
       "      <td>231</td>\n",
       "      <td>58.95</td>\n",
       "      <td>231.9</td>\n",
       "    </tr>\n",
       "    <tr>\n",
       "      <th>213567</th>\n",
       "      <td>72</td>\n",
       "      <td>45.13</td>\n",
       "      <td>92.8</td>\n",
       "    </tr>\n",
       "    <tr>\n",
       "      <th>213568</th>\n",
       "      <td>69</td>\n",
       "      <td>45.00</td>\n",
       "      <td>53.2</td>\n",
       "    </tr>\n",
       "    <tr>\n",
       "      <th>213570</th>\n",
       "      <td>67</td>\n",
       "      <td>41.14</td>\n",
       "      <td>80.4</td>\n",
       "    </tr>\n",
       "    <tr>\n",
       "      <th>213571</th>\n",
       "      <td>316</td>\n",
       "      <td>49.26</td>\n",
       "      <td>352.8</td>\n",
       "    </tr>\n",
       "    <tr>\n",
       "      <th>213572</th>\n",
       "      <td>137</td>\n",
       "      <td>42.15</td>\n",
       "      <td>127.0</td>\n",
       "    </tr>\n",
       "    <tr>\n",
       "      <th>213574</th>\n",
       "      <td>221</td>\n",
       "      <td>50.31</td>\n",
       "      <td>226.2</td>\n",
       "    </tr>\n",
       "    <tr>\n",
       "      <th>213575</th>\n",
       "      <td>481</td>\n",
       "      <td>56.67</td>\n",
       "      <td>521.2</td>\n",
       "    </tr>\n",
       "    <tr>\n",
       "      <th>213577</th>\n",
       "      <td>161</td>\n",
       "      <td>48.44</td>\n",
       "      <td>149.1</td>\n",
       "    </tr>\n",
       "    <tr>\n",
       "      <th>213578</th>\n",
       "      <td>35</td>\n",
       "      <td>42.26</td>\n",
       "      <td>27.5</td>\n",
       "    </tr>\n",
       "    <tr>\n",
       "      <th>213579</th>\n",
       "      <td>104</td>\n",
       "      <td>47.50</td>\n",
       "      <td>134.4</td>\n",
       "    </tr>\n",
       "    <tr>\n",
       "      <th>213580</th>\n",
       "      <td>21</td>\n",
       "      <td>40.07</td>\n",
       "      <td>11.8</td>\n",
       "    </tr>\n",
       "    <tr>\n",
       "      <th>213581</th>\n",
       "      <td>162</td>\n",
       "      <td>45.69</td>\n",
       "      <td>119.0</td>\n",
       "    </tr>\n",
       "    <tr>\n",
       "      <th>213610</th>\n",
       "      <td>47</td>\n",
       "      <td>40.45</td>\n",
       "      <td>27.6</td>\n",
       "    </tr>\n",
       "  </tbody>\n",
       "</table>\n",
       "</div>"
      ],
      "text/plain": [
       "        fact  predict lr  predict_rf\n",
       "213541    21       39.57        14.1\n",
       "213558    98       41.86       110.2\n",
       "213559    22       40.58        25.1\n",
       "213562   101       42.75       120.5\n",
       "213563    42       41.10        42.6\n",
       "213565    22       41.22        18.9\n",
       "213566   231       58.95       231.9\n",
       "213567    72       45.13        92.8\n",
       "213568    69       45.00        53.2\n",
       "213570    67       41.14        80.4\n",
       "213571   316       49.26       352.8\n",
       "213572   137       42.15       127.0\n",
       "213574   221       50.31       226.2\n",
       "213575   481       56.67       521.2\n",
       "213577   161       48.44       149.1\n",
       "213578    35       42.26        27.5\n",
       "213579   104       47.50       134.4\n",
       "213580    21       40.07        11.8\n",
       "213581   162       45.69       119.0\n",
       "213610    47       40.45        27.6"
      ]
     },
     "execution_count": 63,
     "metadata": {},
     "output_type": "execute_result"
    }
   ],
   "source": [
    "# Посмотрим на наши предсказания\n",
    "filter = y_test > 20\n",
    "pd.DataFrame({\n",
    "    \"fact\": y_test[filter], \n",
    "    \"predict lr\": predicted_qualities[filter].round(2), \n",
    "    \"predict_rf\": predicted_qualities2[filter].round(2),\n",
    "}).head(20)"
   ]
  }
 ],
 "metadata": {
  "kernelspec": {
   "display_name": "Python 3 (ipykernel)",
   "language": "python",
   "name": "python3"
  },
  "language_info": {
   "codemirror_mode": {
    "name": "ipython",
    "version": 3
   },
   "file_extension": ".py",
   "mimetype": "text/x-python",
   "name": "python",
   "nbconvert_exporter": "python",
   "pygments_lexer": "ipython3",
   "version": "3.8.10"
  }
 },
 "nbformat": 4,
 "nbformat_minor": 5
}
