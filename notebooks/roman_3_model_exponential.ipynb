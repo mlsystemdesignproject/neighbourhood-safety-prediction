{
 "cells": [
  {
   "cell_type": "code",
   "execution_count": 63,
   "id": "5c8fd255-af80-4cb4-b092-95a2e52509d9",
   "metadata": {},
   "outputs": [],
   "source": [
    "#!pip install statsmodels tqdm"
   ]
  },
  {
   "cell_type": "code",
   "execution_count": 1,
   "id": "237bc28e-54ae-41d1-bead-0cab2de4e05e",
   "metadata": {},
   "outputs": [],
   "source": [
    "import itertools\n",
    "\n",
    "import pandas as pd\n",
    "import numpy as np\n",
    "from tqdm import tqdm\n",
    "import matplotlib.pyplot as plt\n",
    "from sklearn.metrics import mean_squared_error, mean_absolute_error\n",
    "from statsmodels.tsa.holtwinters import ExponentialSmoothing"
   ]
  },
  {
   "cell_type": "code",
   "execution_count": 2,
   "id": "4ce75661-8618-4127-b896-1c5b06d833d9",
   "metadata": {},
   "outputs": [],
   "source": [
    "df = pd.read_csv('../data/MPS/agg_filtered_boroughs_weekends.csv')\n",
    "df[\"TimePeriod\"] = pd.to_datetime(df.TimePeriod)"
   ]
  },
  {
   "cell_type": "code",
   "execution_count": 3,
   "id": "5f205c73-9cd1-452c-809a-62bdf0ea861d",
   "metadata": {},
   "outputs": [
    {
     "data": {
      "text/html": [
       "<div>\n",
       "<style scoped>\n",
       "    .dataframe tbody tr th:only-of-type {\n",
       "        vertical-align: middle;\n",
       "    }\n",
       "\n",
       "    .dataframe tbody tr th {\n",
       "        vertical-align: top;\n",
       "    }\n",
       "\n",
       "    .dataframe thead th {\n",
       "        text-align: right;\n",
       "    }\n",
       "</style>\n",
       "<table border=\"1\" class=\"dataframe\">\n",
       "  <thead>\n",
       "    <tr style=\"text-align: right;\">\n",
       "      <th></th>\n",
       "      <th>BoroughName</th>\n",
       "      <th>CrimeType</th>\n",
       "      <th>CrimeSubtype</th>\n",
       "      <th>TimePeriod</th>\n",
       "      <th>Value</th>\n",
       "      <th>WorkingDays</th>\n",
       "      <th>Weekends</th>\n",
       "    </tr>\n",
       "  </thead>\n",
       "  <tbody>\n",
       "    <tr>\n",
       "      <th>0</th>\n",
       "      <td>Barking and Dagenham</td>\n",
       "      <td>Arson and Criminal Damage</td>\n",
       "      <td>Arson</td>\n",
       "      <td>2010-04-01</td>\n",
       "      <td>6</td>\n",
       "      <td>20</td>\n",
       "      <td>10</td>\n",
       "    </tr>\n",
       "    <tr>\n",
       "      <th>1</th>\n",
       "      <td>Barking and Dagenham</td>\n",
       "      <td>Arson and Criminal Damage</td>\n",
       "      <td>Criminal Damage</td>\n",
       "      <td>2010-04-01</td>\n",
       "      <td>208</td>\n",
       "      <td>20</td>\n",
       "      <td>10</td>\n",
       "    </tr>\n",
       "    <tr>\n",
       "      <th>2</th>\n",
       "      <td>Barking and Dagenham</td>\n",
       "      <td>Burglary</td>\n",
       "      <td>Burglary Business and Community</td>\n",
       "      <td>2010-04-01</td>\n",
       "      <td>49</td>\n",
       "      <td>20</td>\n",
       "      <td>10</td>\n",
       "    </tr>\n",
       "    <tr>\n",
       "      <th>3</th>\n",
       "      <td>Barking and Dagenham</td>\n",
       "      <td>Burglary</td>\n",
       "      <td>Domestic Burglary</td>\n",
       "      <td>2010-04-01</td>\n",
       "      <td>118</td>\n",
       "      <td>20</td>\n",
       "      <td>10</td>\n",
       "    </tr>\n",
       "    <tr>\n",
       "      <th>4</th>\n",
       "      <td>Barking and Dagenham</td>\n",
       "      <td>Drug Offences</td>\n",
       "      <td>Drug Trafficking</td>\n",
       "      <td>2010-04-01</td>\n",
       "      <td>9</td>\n",
       "      <td>20</td>\n",
       "      <td>10</td>\n",
       "    </tr>\n",
       "  </tbody>\n",
       "</table>\n",
       "</div>"
      ],
      "text/plain": [
       "            BoroughName                  CrimeType  \\\n",
       "0  Barking and Dagenham  Arson and Criminal Damage   \n",
       "1  Barking and Dagenham  Arson and Criminal Damage   \n",
       "2  Barking and Dagenham                   Burglary   \n",
       "3  Barking and Dagenham                   Burglary   \n",
       "4  Barking and Dagenham              Drug Offences   \n",
       "\n",
       "                      CrimeSubtype TimePeriod  Value  WorkingDays  Weekends  \n",
       "0                            Arson 2010-04-01      6           20        10  \n",
       "1                  Criminal Damage 2010-04-01    208           20        10  \n",
       "2  Burglary Business and Community 2010-04-01     49           20        10  \n",
       "3                Domestic Burglary 2010-04-01    118           20        10  \n",
       "4                 Drug Trafficking 2010-04-01      9           20        10  "
      ]
     },
     "execution_count": 3,
     "metadata": {},
     "output_type": "execute_result"
    }
   ],
   "source": [
    "df.head()"
   ]
  },
  {
   "cell_type": "markdown",
   "id": "f5fe199f-5bd3-47f5-80cc-082aae140645",
   "metadata": {},
   "source": [
    "# Модель экспоненциального сглаживания\n",
    "\n",
    "* Берем из датасета только график (дата и значение)\n",
    "* Получаем все виды районов и преступлений\n",
    "* В цикле проходим по всем комбинациям районов и преступлений\n",
    "* Делаем прогноз с помощью модели [Холта-Винтера](https://otexts.com/fpp2/holt-winters.html)\n",
    "* Сохраняем прогноз на последний год (для теста), а также прогноз на следующие 12 месяцев (для использования)\n",
    "* Считаем метрику MAPE на данных за последние 12 месяцев"
   ]
  },
  {
   "cell_type": "code",
   "execution_count": 4,
   "id": "c8e979e6-c782-4a33-b577-72b7d5d430bc",
   "metadata": {},
   "outputs": [],
   "source": [
    "test_interval = 12\n",
    "df_timeseries = df[['BoroughName', 'CrimeSubtype', 'Value', 'TimePeriod']]\n",
    "df_timeseries = df_timeseries.sort_values('TimePeriod')\n"
   ]
  },
  {
   "cell_type": "code",
   "execution_count": 5,
   "id": "2764433b-edd9-4542-b7b7-0426a4b5d2a4",
   "metadata": {},
   "outputs": [
    {
     "name": "stderr",
     "output_type": "stream",
     "text": [
      "  1%|█                                                                                | 22/1697 [00:05<08:16,  3.37it/s]"
     ]
    },
    {
     "name": "stdout",
     "output_type": "stream",
     "text": [
      "Cannot calculate Barking and Dagenham Offender Management Act\n",
      "    ! Cannot compute initial seasonals using heuristic method with less than two full seasonal cycles in the data.\n"
     ]
    },
    {
     "name": "stderr",
     "output_type": "stream",
     "text": [
      "  1%|█▏                                                                               | 25/1697 [00:06<07:35,  3.67it/s]"
     ]
    },
    {
     "name": "stdout",
     "output_type": "stream",
     "text": [
      "Cannot calculate Barking and Dagenham Other Knife Offences\n",
      "    ! Cannot compute initial seasonals using heuristic method with less than two full seasonal cycles in the data.\n"
     ]
    },
    {
     "name": "stderr",
     "output_type": "stream",
     "text": [
      "  6%|█████▏                                                                          | 109/1697 [00:24<03:29,  7.59it/s]"
     ]
    },
    {
     "name": "stdout",
     "output_type": "stream",
     "text": [
      "Cannot calculate Bexley Absconding from Lawful Custody\n",
      "    ! Cannot compute initial seasonals using heuristic method with less than two full seasonal cycles in the data.\n"
     ]
    },
    {
     "name": "stderr",
     "output_type": "stream",
     "text": [
      "  8%|██████▏                                                                         | 130/1697 [00:27<03:13,  8.10it/s]"
     ]
    },
    {
     "name": "stdout",
     "output_type": "stream",
     "text": [
      "Cannot calculate Bexley Offender Management Act\n",
      "    ! Cannot compute initial seasonals using heuristic method with less than two full seasonal cycles in the data.\n"
     ]
    },
    {
     "name": "stderr",
     "output_type": "stream",
     "text": [
      " 11%|████████▋                                                                       | 183/1697 [00:35<02:57,  8.53it/s]"
     ]
    },
    {
     "name": "stdout",
     "output_type": "stream",
     "text": [
      "Cannot calculate Brent Offender Management Act\n",
      "    ! Cannot compute initial seasonals using heuristic method with less than two full seasonal cycles in the data.\n"
     ]
    },
    {
     "name": "stderr",
     "output_type": "stream",
     "text": [
      " 17%|█████████████▌                                                                  | 287/1697 [00:48<02:29,  9.43it/s]"
     ]
    },
    {
     "name": "stdout",
     "output_type": "stream",
     "text": [
      "Cannot calculate Camden Offender Management Act\n",
      "    ! Cannot compute initial seasonals using heuristic method with less than two full seasonal cycles in the data.\n"
     ]
    },
    {
     "name": "stderr",
     "output_type": "stream",
     "text": [
      " 20%|████████████████▏                                                               | 343/1697 [00:56<02:32,  8.89it/s]"
     ]
    },
    {
     "name": "stdout",
     "output_type": "stream",
     "text": [
      "Cannot calculate Croydon Other Knife Offences\n",
      "    ! Cannot compute initial seasonals using heuristic method with less than two full seasonal cycles in the data.\n"
     ]
    },
    {
     "name": "stderr",
     "output_type": "stream",
     "text": [
      " 33%|██████████████████████████                                                      | 554/1697 [01:24<02:17,  8.32it/s]"
     ]
    },
    {
     "name": "stdout",
     "output_type": "stream",
     "text": [
      "Cannot calculate Hackney Offender Management Act\n",
      "    ! Cannot compute initial seasonals using heuristic method with less than two full seasonal cycles in the data.\n"
     ]
    },
    {
     "name": "stderr",
     "output_type": "stream",
     "text": [
      " 39%|███████████████████████████████▎                                                | 663/1697 [01:43<01:58,  8.75it/s]"
     ]
    },
    {
     "name": "stdout",
     "output_type": "stream",
     "text": [
      "Cannot calculate Haringey Other Knife Offences\n",
      "    ! Cannot compute initial seasonals using heuristic method with less than two full seasonal cycles in the data.\n"
     ]
    },
    {
     "name": "stderr",
     "output_type": "stream",
     "text": [
      " 44%|███████████████████████████████████▍                                            | 752/1697 [01:56<01:26, 10.94it/s]"
     ]
    },
    {
     "name": "stdout",
     "output_type": "stream",
     "text": [
      "Cannot calculate Havering Concealing an Infant Death Close to Birth\n",
      "    ! Cannot compute initial seasonals using heuristic method with less than two full seasonal cycles in the data.\n"
     ]
    },
    {
     "name": "stderr",
     "output_type": "stream",
     "text": [
      " 46%|█████████████████████████████████████▏                                          | 789/1697 [02:00<01:32,  9.83it/s]"
     ]
    },
    {
     "name": "stdout",
     "output_type": "stream",
     "text": [
      "Cannot calculate Havering Soliciting for Prostitution\n",
      "    ! Cannot compute initial seasonals using heuristic method with less than two full seasonal cycles in the data.\n"
     ]
    },
    {
     "name": "stderr",
     "output_type": "stream",
     "text": [
      " 60%|███████████████████████████████████████████████                                | 1010/1697 [02:38<02:38,  4.33it/s]"
     ]
    },
    {
     "name": "stdout",
     "output_type": "stream",
     "text": [
      "Cannot calculate Kingston upon Thames Aiding Suicide\n",
      "    ! Cannot compute initial seasonals using heuristic method with less than two full seasonal cycles in the data.\n"
     ]
    },
    {
     "name": "stderr",
     "output_type": "stream",
     "text": [
      " 60%|███████████████████████████████████████████████▏                               | 1014/1697 [02:39<02:43,  4.17it/s]"
     ]
    },
    {
     "name": "stdout",
     "output_type": "stream",
     "text": [
      "Cannot calculate Kingston upon Thames Bigamy\n",
      "    ! Cannot compute initial seasonals using heuristic method with less than two full seasonal cycles in the data.\n"
     ]
    },
    {
     "name": "stderr",
     "output_type": "stream",
     "text": [
      " 75%|███████████████████████████████████████████████████████████▍                   | 1276/1697 [03:26<00:49,  8.55it/s]"
     ]
    },
    {
     "name": "stdout",
     "output_type": "stream",
     "text": [
      "Cannot calculate Redbridge Aiding Suicide\n",
      "    ! Cannot compute initial seasonals using heuristic method with less than two full seasonal cycles in the data.\n"
     ]
    },
    {
     "name": "stderr",
     "output_type": "stream",
     "text": [
      " 84%|██████████████████████████████████████████████████████████████████▋            | 1433/1697 [03:47<00:25, 10.32it/s]"
     ]
    },
    {
     "name": "stdout",
     "output_type": "stream",
     "text": [
      "Cannot calculate Sutton Aiding Suicide\n",
      "    ! Cannot compute initial seasonals using heuristic method with less than two full seasonal cycles in the data.\n"
     ]
    },
    {
     "name": "stderr",
     "output_type": "stream",
     "text": [
      " 89%|██████████████████████████████████████████████████████████████████████▏        | 1508/1697 [03:57<00:16, 11.23it/s]"
     ]
    },
    {
     "name": "stdout",
     "output_type": "stream",
     "text": [
      "Cannot calculate Tower Hamlets Offender Management Act\n",
      "    ! Cannot compute initial seasonals using heuristic method with less than two full seasonal cycles in the data.\n"
     ]
    },
    {
     "name": "stderr",
     "output_type": "stream",
     "text": [
      " 91%|███████████████████████████████████████████████████████████████████████▋       | 1540/1697 [04:01<00:19,  7.91it/s]"
     ]
    },
    {
     "name": "stdout",
     "output_type": "stream",
     "text": [
      "Cannot calculate Waltham Forest Aiding Suicide\n",
      "    ! Cannot compute initial seasonals using heuristic method with less than two full seasonal cycles in the data.\n"
     ]
    },
    {
     "name": "stderr",
     "output_type": "stream",
     "text": [
      " 92%|████████████████████████████████████████████████████████████████████████▊      | 1564/1697 [04:05<00:16,  8.31it/s]"
     ]
    },
    {
     "name": "stdout",
     "output_type": "stream",
     "text": [
      "Cannot calculate Waltham Forest Other Knife Offences\n",
      "    ! Cannot compute initial seasonals using heuristic method with less than two full seasonal cycles in the data.\n"
     ]
    },
    {
     "name": "stderr",
     "output_type": "stream",
     "text": [
      " 96%|████████████████████████████████████████████████████████████████████████████▏  | 1637/1697 [04:15<00:07,  8.49it/s]"
     ]
    },
    {
     "name": "stdout",
     "output_type": "stream",
     "text": [
      "Cannot calculate Wandsworth Soliciting for Prostitution\n",
      "    ! Cannot compute initial seasonals using heuristic method with less than two full seasonal cycles in the data.\n"
     ]
    },
    {
     "name": "stderr",
     "output_type": "stream",
     "text": [
      "100%|███████████████████████████████████████████████████████████████████████████████| 1697/1697 [04:24<00:00,  6.43it/s]"
     ]
    },
    {
     "name": "stdout",
     "output_type": "stream",
     "text": [
      "CPU times: user 4min 25s, sys: 4.58 s, total: 4min 30s\n",
      "Wall time: 4min 24s\n"
     ]
    },
    {
     "name": "stderr",
     "output_type": "stream",
     "text": [
      "\n"
     ]
    }
   ],
   "source": [
    "%%time\n",
    "iter_boroughs = []\n",
    "iter_crime_subtypes = []\n",
    "iter_test_real = []\n",
    "iter_test_predict = []\n",
    "for (borough, crime_subtype), group in tqdm(df_timeseries.groupby(['BoroughName', 'CrimeSubtype'])):\n",
    "    \n",
    "    train = group.iloc[:-test_interval, ][\"Value\"].values\n",
    "    test = group.iloc[-test_interval:, ][\"Value\"].values\n",
    "    try:\n",
    "        model = ExponentialSmoothing(train, trend=\"add\", seasonal=\"add\", seasonal_periods=test_interval)\n",
    "        model_fit = model.fit()\n",
    "        pred = model_fit.predict(start=len(train), end=len(train) + test_interval-1)\n",
    "    except Exception as e:\n",
    "        print(f\"Cannot calculate {borough} {crime_subtype}\")\n",
    "        print(f\"    ! {e}\")\n",
    "        predictions = np.full(test_interval, train[-1])\n",
    "\n",
    "    iter_boroughs.append(borough)\n",
    "    iter_crime_subtypes.append(crime_subtype)\n",
    "    iter_test_real.extend(test)\n",
    "    iter_test_predict.extend(pred)\n",
    "    "
   ]
  },
  {
   "cell_type": "markdown",
   "id": "ea422e3f-90a0-413d-a0b8-e4f0ffb462b5",
   "metadata": {},
   "source": [
    "## Сколько типов преступлений по borough"
   ]
  },
  {
   "cell_type": "code",
   "execution_count": 7,
   "id": "bb3be720-c4f0-4eb1-b82f-378c29dee9d9",
   "metadata": {},
   "outputs": [
    {
     "data": {
      "text/plain": [
       "CrimeSubtype\n",
       "Absconding from Lawful Custody                        32\n",
       "Aggravated Vehicle Taking                             32\n",
       "Aiding Suicide                                         6\n",
       "Arson                                                 32\n",
       "Bail Offences                                         32\n",
       "Bicycle Theft                                         32\n",
       "Bigamy                                                30\n",
       "Burglary Business and Community                       32\n",
       "Concealing an Infant Death Close to Birth              5\n",
       "Criminal Damage                                       32\n",
       "Dangerous Driving                                     32\n",
       "Disclosure, Obstruction, False or Misleading State    32\n",
       "Domestic Burglary                                     32\n",
       "Drug Trafficking                                      32\n",
       "Exploitation of Prostitution                          32\n",
       "Forgery or Use of Drug Prescription                   32\n",
       "Fraud or Forgery Associated with Driver Records       32\n",
       "Going Equipped for Stealing                           32\n",
       "Handling Stolen Goods                                 32\n",
       "Historical Fraud and Forgery                          32\n",
       "Homicide                                              32\n",
       "Interfering with a Motor Vehicle                      32\n",
       "Making, Supplying or Possessing Articles for use i    32\n",
       "Obscene Publications                                  32\n",
       "Offender Management Act                               27\n",
       "Other Firearm Offences                                32\n",
       "Other Forgery                                         32\n",
       "Other Knife Offences                                   8\n",
       "Other Notifiable Offences                             32\n",
       "Other Offences Against the State, or Public Order     32\n",
       "Other Sexual Offences                                 32\n",
       "Other Theft                                           32\n",
       "Perjury                                               32\n",
       "Perverting Course of Justice                          32\n",
       "Possession of Article with Blade or Point             32\n",
       "Possession of Drugs                                   32\n",
       "Possession of False Documents                         32\n",
       "Possession of Firearm with Intent                     32\n",
       "Possession of Firearms Offences                       32\n",
       "Possession of Other Weapon                            32\n",
       "Profitting From or Concealing Proceeds of Crime       32\n",
       "Public Fear Alarm or Distress                         32\n",
       "Racially or Religiously Aggravated Public Fear, Al    32\n",
       "Rape                                                  32\n",
       "Robbery of Business Property                          32\n",
       "Robbery of Personal Property                          32\n",
       "Shoplifting                                           32\n",
       "Soliciting for Prostitution                           22\n",
       "Theft from Person                                     32\n",
       "Theft from a Motor Vehicle                            32\n",
       "Theft or Taking of a Motor Vehicle                    32\n",
       "Threat or Possession With Intent to Commit Crimina    32\n",
       "Violence with Injury                                  32\n",
       "Violence without Injury                               32\n",
       "Violent Disorder                                      32\n",
       "Wildlife Crime                                        31\n",
       "Name: BoroughName, dtype: int64"
      ]
     },
     "execution_count": 7,
     "metadata": {},
     "output_type": "execute_result"
    }
   ],
   "source": [
    "df.groupby(\"CrimeSubtype\")[\"BoroughName\"].nunique()"
   ]
  },
  {
   "cell_type": "markdown",
   "id": "08132762-4084-421a-8fb2-b1ea7f426e89",
   "metadata": {},
   "source": [
    "# Смотрим предсказания на 12 месяцев\n",
    "\n",
    "Смотирм ошибку RMSE и MAE"
   ]
  },
  {
   "cell_type": "code",
   "execution_count": 6,
   "id": "07f26d15-7c92-4435-9c71-f7dcb1512705",
   "metadata": {},
   "outputs": [
    {
     "name": "stdout",
     "output_type": "stream",
     "text": [
      "Кобминаций районов-типов преступлений 1697, тестоовых значений 20364, предсказаний 20364\n"
     ]
    }
   ],
   "source": [
    "print(f\"Кобминаций районов-типов преступлений {len(iter_boroughs)}, тестоовых значений {len(iter_test_real)}, предсказаний {len(iter_test_predict)}\")\n"
   ]
  },
  {
   "cell_type": "code",
   "execution_count": 17,
   "id": "c6be69d6-4022-4c4f-9f21-e243e567b839",
   "metadata": {},
   "outputs": [],
   "source": [
    "df_pred_test = pd.DataFrame({\n",
    "    \"CrimeSubtype\": list(itertools.chain.from_iterable([itertools.repeat(x, 12) for x in iter_crime_subtypes])),\n",
    "    \"BoroughName\": list(itertools.chain.from_iterable([itertools.repeat(x, 12) for x in iter_boroughs])),\n",
    "    \"real\": iter_test_real,\n",
    "    \"pred\": iter_test_predict\n",
    "})"
   ]
  },
  {
   "cell_type": "code",
   "execution_count": 20,
   "id": "12145cec-f718-4b98-b8b9-8c66eff881cc",
   "metadata": {},
   "outputs": [],
   "source": [
    "df_pred_test['diff'] = np.abs(df_pred_test.pred - df_pred_test.real)"
   ]
  },
  {
   "cell_type": "code",
   "execution_count": 21,
   "id": "d908d73f-4cd1-4c7a-86b0-457124f9892a",
   "metadata": {},
   "outputs": [
    {
     "data": {
      "text/html": [
       "<div>\n",
       "<style scoped>\n",
       "    .dataframe tbody tr th:only-of-type {\n",
       "        vertical-align: middle;\n",
       "    }\n",
       "\n",
       "    .dataframe tbody tr th {\n",
       "        vertical-align: top;\n",
       "    }\n",
       "\n",
       "    .dataframe thead th {\n",
       "        text-align: right;\n",
       "    }\n",
       "</style>\n",
       "<table border=\"1\" class=\"dataframe\">\n",
       "  <thead>\n",
       "    <tr style=\"text-align: right;\">\n",
       "      <th></th>\n",
       "      <th>CrimeSubtype</th>\n",
       "      <th>BoroughName</th>\n",
       "      <th>real</th>\n",
       "      <th>pred</th>\n",
       "      <th>diff</th>\n",
       "    </tr>\n",
       "  </thead>\n",
       "  <tbody>\n",
       "    <tr>\n",
       "      <th>20271</th>\n",
       "      <td>Theft from Person</td>\n",
       "      <td>Westminster</td>\n",
       "      <td>2814</td>\n",
       "      <td>1312.506223</td>\n",
       "      <td>1501.493777</td>\n",
       "    </tr>\n",
       "    <tr>\n",
       "      <th>20270</th>\n",
       "      <td>Theft from Person</td>\n",
       "      <td>Westminster</td>\n",
       "      <td>2355</td>\n",
       "      <td>1170.503353</td>\n",
       "      <td>1184.496647</td>\n",
       "    </tr>\n",
       "    <tr>\n",
       "      <th>20272</th>\n",
       "      <td>Theft from Person</td>\n",
       "      <td>Westminster</td>\n",
       "      <td>2296</td>\n",
       "      <td>1132.756328</td>\n",
       "      <td>1163.243672</td>\n",
       "    </tr>\n",
       "    <tr>\n",
       "      <th>20273</th>\n",
       "      <td>Theft from Person</td>\n",
       "      <td>Westminster</td>\n",
       "      <td>2036</td>\n",
       "      <td>1187.578851</td>\n",
       "      <td>848.421149</td>\n",
       "    </tr>\n",
       "    <tr>\n",
       "      <th>20275</th>\n",
       "      <td>Theft from Person</td>\n",
       "      <td>Westminster</td>\n",
       "      <td>1893</td>\n",
       "      <td>1045.560416</td>\n",
       "      <td>847.439584</td>\n",
       "    </tr>\n",
       "    <tr>\n",
       "      <th>20066</th>\n",
       "      <td>Other Theft</td>\n",
       "      <td>Westminster</td>\n",
       "      <td>2604</td>\n",
       "      <td>1790.111216</td>\n",
       "      <td>813.888784</td>\n",
       "    </tr>\n",
       "    <tr>\n",
       "      <th>20269</th>\n",
       "      <td>Theft from Person</td>\n",
       "      <td>Westminster</td>\n",
       "      <td>1964</td>\n",
       "      <td>1165.034987</td>\n",
       "      <td>798.965013</td>\n",
       "    </tr>\n",
       "    <tr>\n",
       "      <th>20274</th>\n",
       "      <td>Theft from Person</td>\n",
       "      <td>Westminster</td>\n",
       "      <td>1935</td>\n",
       "      <td>1172.117808</td>\n",
       "      <td>762.882192</td>\n",
       "    </tr>\n",
       "    <tr>\n",
       "      <th>20276</th>\n",
       "      <td>Theft from Person</td>\n",
       "      <td>Westminster</td>\n",
       "      <td>1771</td>\n",
       "      <td>1068.796475</td>\n",
       "      <td>702.203525</td>\n",
       "    </tr>\n",
       "    <tr>\n",
       "      <th>20067</th>\n",
       "      <td>Other Theft</td>\n",
       "      <td>Westminster</td>\n",
       "      <td>2652</td>\n",
       "      <td>1961.169207</td>\n",
       "      <td>690.830793</td>\n",
       "    </tr>\n",
       "    <tr>\n",
       "      <th>20277</th>\n",
       "      <td>Theft from Person</td>\n",
       "      <td>Westminster</td>\n",
       "      <td>1733</td>\n",
       "      <td>1101.344598</td>\n",
       "      <td>631.655402</td>\n",
       "    </tr>\n",
       "    <tr>\n",
       "      <th>20278</th>\n",
       "      <td>Theft from Person</td>\n",
       "      <td>Westminster</td>\n",
       "      <td>1778</td>\n",
       "      <td>1218.532756</td>\n",
       "      <td>559.467244</td>\n",
       "    </tr>\n",
       "    <tr>\n",
       "      <th>20073</th>\n",
       "      <td>Other Theft</td>\n",
       "      <td>Westminster</td>\n",
       "      <td>2308</td>\n",
       "      <td>1823.655927</td>\n",
       "      <td>484.344073</td>\n",
       "    </tr>\n",
       "    <tr>\n",
       "      <th>20065</th>\n",
       "      <td>Other Theft</td>\n",
       "      <td>Westminster</td>\n",
       "      <td>2281</td>\n",
       "      <td>1815.608007</td>\n",
       "      <td>465.391993</td>\n",
       "    </tr>\n",
       "    <tr>\n",
       "      <th>20070</th>\n",
       "      <td>Other Theft</td>\n",
       "      <td>Westminster</td>\n",
       "      <td>2220</td>\n",
       "      <td>1794.065312</td>\n",
       "      <td>425.934688</td>\n",
       "    </tr>\n",
       "    <tr>\n",
       "      <th>20068</th>\n",
       "      <td>Other Theft</td>\n",
       "      <td>Westminster</td>\n",
       "      <td>2148</td>\n",
       "      <td>1740.850745</td>\n",
       "      <td>407.149255</td>\n",
       "    </tr>\n",
       "    <tr>\n",
       "      <th>20279</th>\n",
       "      <td>Theft from Person</td>\n",
       "      <td>Westminster</td>\n",
       "      <td>1468</td>\n",
       "      <td>1122.845990</td>\n",
       "      <td>345.154010</td>\n",
       "    </tr>\n",
       "    <tr>\n",
       "      <th>20069</th>\n",
       "      <td>Other Theft</td>\n",
       "      <td>Westminster</td>\n",
       "      <td>2093</td>\n",
       "      <td>1750.346521</td>\n",
       "      <td>342.653479</td>\n",
       "    </tr>\n",
       "    <tr>\n",
       "      <th>20072</th>\n",
       "      <td>Other Theft</td>\n",
       "      <td>Westminster</td>\n",
       "      <td>2092</td>\n",
       "      <td>1792.817033</td>\n",
       "      <td>299.182967</td>\n",
       "    </tr>\n",
       "    <tr>\n",
       "      <th>3501</th>\n",
       "      <td>Other Theft</td>\n",
       "      <td>Camden</td>\n",
       "      <td>833</td>\n",
       "      <td>581.023206</td>\n",
       "      <td>251.976794</td>\n",
       "    </tr>\n",
       "    <tr>\n",
       "      <th>3498</th>\n",
       "      <td>Other Theft</td>\n",
       "      <td>Camden</td>\n",
       "      <td>861</td>\n",
       "      <td>612.012170</td>\n",
       "      <td>248.987830</td>\n",
       "    </tr>\n",
       "    <tr>\n",
       "      <th>20074</th>\n",
       "      <td>Other Theft</td>\n",
       "      <td>Westminster</td>\n",
       "      <td>2246</td>\n",
       "      <td>1999.187765</td>\n",
       "      <td>246.812235</td>\n",
       "    </tr>\n",
       "    <tr>\n",
       "      <th>17061</th>\n",
       "      <td>Theft from Person</td>\n",
       "      <td>Southwark</td>\n",
       "      <td>532</td>\n",
       "      <td>307.088466</td>\n",
       "      <td>224.911534</td>\n",
       "    </tr>\n",
       "    <tr>\n",
       "      <th>3500</th>\n",
       "      <td>Other Theft</td>\n",
       "      <td>Camden</td>\n",
       "      <td>829</td>\n",
       "      <td>605.013674</td>\n",
       "      <td>223.986326</td>\n",
       "    </tr>\n",
       "    <tr>\n",
       "      <th>15177</th>\n",
       "      <td>Theft from Person</td>\n",
       "      <td>Newham</td>\n",
       "      <td>314</td>\n",
       "      <td>104.496852</td>\n",
       "      <td>209.503148</td>\n",
       "    </tr>\n",
       "    <tr>\n",
       "      <th>8166</th>\n",
       "      <td>Shoplifting</td>\n",
       "      <td>Haringey</td>\n",
       "      <td>315</td>\n",
       "      <td>111.937966</td>\n",
       "      <td>203.062034</td>\n",
       "    </tr>\n",
       "    <tr>\n",
       "      <th>3494</th>\n",
       "      <td>Other Theft</td>\n",
       "      <td>Camden</td>\n",
       "      <td>792</td>\n",
       "      <td>598.825881</td>\n",
       "      <td>193.174119</td>\n",
       "    </tr>\n",
       "    <tr>\n",
       "      <th>3493</th>\n",
       "      <td>Other Theft</td>\n",
       "      <td>Camden</td>\n",
       "      <td>806</td>\n",
       "      <td>624.090527</td>\n",
       "      <td>181.909473</td>\n",
       "    </tr>\n",
       "    <tr>\n",
       "      <th>13905</th>\n",
       "      <td>Shoplifting</td>\n",
       "      <td>Lewisham</td>\n",
       "      <td>271</td>\n",
       "      <td>96.697784</td>\n",
       "      <td>174.302216</td>\n",
       "    </tr>\n",
       "    <tr>\n",
       "      <th>15175</th>\n",
       "      <td>Theft from Person</td>\n",
       "      <td>Newham</td>\n",
       "      <td>283</td>\n",
       "      <td>108.739172</td>\n",
       "      <td>174.260828</td>\n",
       "    </tr>\n",
       "  </tbody>\n",
       "</table>\n",
       "</div>"
      ],
      "text/plain": [
       "            CrimeSubtype  BoroughName  real         pred         diff\n",
       "20271  Theft from Person  Westminster  2814  1312.506223  1501.493777\n",
       "20270  Theft from Person  Westminster  2355  1170.503353  1184.496647\n",
       "20272  Theft from Person  Westminster  2296  1132.756328  1163.243672\n",
       "20273  Theft from Person  Westminster  2036  1187.578851   848.421149\n",
       "20275  Theft from Person  Westminster  1893  1045.560416   847.439584\n",
       "20066        Other Theft  Westminster  2604  1790.111216   813.888784\n",
       "20269  Theft from Person  Westminster  1964  1165.034987   798.965013\n",
       "20274  Theft from Person  Westminster  1935  1172.117808   762.882192\n",
       "20276  Theft from Person  Westminster  1771  1068.796475   702.203525\n",
       "20067        Other Theft  Westminster  2652  1961.169207   690.830793\n",
       "20277  Theft from Person  Westminster  1733  1101.344598   631.655402\n",
       "20278  Theft from Person  Westminster  1778  1218.532756   559.467244\n",
       "20073        Other Theft  Westminster  2308  1823.655927   484.344073\n",
       "20065        Other Theft  Westminster  2281  1815.608007   465.391993\n",
       "20070        Other Theft  Westminster  2220  1794.065312   425.934688\n",
       "20068        Other Theft  Westminster  2148  1740.850745   407.149255\n",
       "20279  Theft from Person  Westminster  1468  1122.845990   345.154010\n",
       "20069        Other Theft  Westminster  2093  1750.346521   342.653479\n",
       "20072        Other Theft  Westminster  2092  1792.817033   299.182967\n",
       "3501         Other Theft       Camden   833   581.023206   251.976794\n",
       "3498         Other Theft       Camden   861   612.012170   248.987830\n",
       "20074        Other Theft  Westminster  2246  1999.187765   246.812235\n",
       "17061  Theft from Person    Southwark   532   307.088466   224.911534\n",
       "3500         Other Theft       Camden   829   605.013674   223.986326\n",
       "15177  Theft from Person       Newham   314   104.496852   209.503148\n",
       "8166         Shoplifting     Haringey   315   111.937966   203.062034\n",
       "3494         Other Theft       Camden   792   598.825881   193.174119\n",
       "3493         Other Theft       Camden   806   624.090527   181.909473\n",
       "13905        Shoplifting     Lewisham   271    96.697784   174.302216\n",
       "15175  Theft from Person       Newham   283   108.739172   174.260828"
      ]
     },
     "execution_count": 21,
     "metadata": {},
     "output_type": "execute_result"
    }
   ],
   "source": [
    "df_pred_test.sort_values('diff', ascending=False)[:30]"
   ]
  },
  {
   "cell_type": "code",
   "execution_count": 13,
   "id": "7c7beb65-eb00-43cd-a6a2-5fe6324a1efb",
   "metadata": {},
   "outputs": [
    {
     "name": "stdout",
     "output_type": "stream",
     "text": [
      "RMSE 28.60708033963433\n",
      "MAE 7.8572516454101375\n"
     ]
    }
   ],
   "source": [
    "print(f\"RMSE {np.sqrt(mean_squared_error(iter_test_real, iter_test_predict))}\")\n",
    "print(f\"MAE {mean_absolute_error(iter_test_real, iter_test_predict)}\")\n"
   ]
  },
  {
   "cell_type": "markdown",
   "id": "1985188b-11ba-451c-840d-27a6e254c253",
   "metadata": {},
   "source": [
    "# Графики"
   ]
  },
  {
   "cell_type": "code",
   "execution_count": 33,
   "id": "1a68b8fd-17d1-401f-8526-98d7a235246c",
   "metadata": {},
   "outputs": [
    {
     "name": "stdout",
     "output_type": "stream",
     "text": [
      "RMSE 2.573052735153581\n"
     ]
    },
    {
     "data": {
      "image/png": "[encoded data removed]",
      "text/plain": [
       "<Figure size 1000x600 with 1 Axes>"
      ]
     },
     "metadata": {},
     "output_type": "display_data"
    }
   ],
   "source": [
    "random_borough = np.random.choice(df['BoroughName'])\n",
    "random_crime = np.random.choice(df['CrimeSubtype'])\n",
    "\n",
    "filtered_df = df[(df['BoroughName'] == random_borough) & (df['CrimeSubtype'] == random_crime)]\n",
    "filtered_df.set_index('TimePeriod', inplace=True)\n",
    "\n",
    "train, test = filtered_df.iloc[:int(len(filtered_df)-12), :], filtered_df.iloc[int(len(filtered_df)-12):, :]\n",
    "\n",
    "pred =  df_pred_test[(df_pred_test['BoroughName'] == random_borough) & (df_pred_test['CrimeSubtype'] == random_crime)]\n",
    "print(f\"RMSE {np.sqrt(mean_squared_error(test.Value, pred.pred))}\")\n",
    "\n",
    "plt.figure(figsize=(10,6))\n",
    "plt.plot(train.index, train.Value, label='Train')\n",
    "plt.plot(test.index, test.Value, label='Test')\n",
    "plt.plot(test.index, pred.pred, label='Prediction')\n",
    "plt.legend(loc='best')\n",
    "plt.title(f\"Район {random_borough}, тип преступления {random_crime}\");\n",
    "plt.show();\n"
   ]
  },
  {
   "cell_type": "markdown",
   "id": "5ede07c8-1bf1-437a-b635-93e6ea57fbb9",
   "metadata": {},
   "source": [
    "# Строим предсказания на сделующие 12 месяцев"
   ]
  },
  {
   "cell_type": "code",
   "execution_count": 34,
   "id": "29197f5d-40d4-4659-9d02-e6a9c293eb1a",
   "metadata": {},
   "outputs": [
    {
     "name": "stderr",
     "output_type": "stream",
     "text": [
      "100%|███████████████████████████████████████████████████████████████████████████████| 1697/1697 [03:59<00:00,  7.09it/s]"
     ]
    },
    {
     "name": "stdout",
     "output_type": "stream",
     "text": [
      "CPU times: user 4min 1s, sys: 3.53 s, total: 4min 4s\n",
      "Wall time: 3min 59s\n"
     ]
    },
    {
     "name": "stderr",
     "output_type": "stream",
     "text": [
      "\n"
     ]
    }
   ],
   "source": [
    "%%time\n",
    "iter_boroughs = []\n",
    "iter_crime_subtypes = []\n",
    "iter_new_predict = []\n",
    "for (borough, crime_subtype), group in tqdm(df_timeseries.groupby(['BoroughName', 'CrimeSubtype'])):\n",
    "    train = group[\"Value\"].values\n",
    "    try:\n",
    "        model = ExponentialSmoothing(train, trend=\"add\", seasonal=\"add\", seasonal_periods=test_interval)\n",
    "        model_fit = model.fit()\n",
    "        predictions = model_fit.predict(start=len(train), end=len(train) + test_interval-1)\n",
    "    except Exception as e:\n",
    "        print(f\"Cannot calculate {borough} {crime_subtype}\")\n",
    "        print(f\"    ! {e}\")\n",
    "        predictions = np.full(test_interval, train[-1])\n",
    "\n",
    "    iter_boroughs.append(borough)\n",
    "    iter_crime_subtypes.append(crime_subtype)\n",
    "    iter_new_predict.extend(predictions)\n",
    "    "
   ]
  },
  {
   "cell_type": "code",
   "execution_count": 38,
   "id": "bb050de4-d2d0-49cf-a6cc-626a958dcfb3",
   "metadata": {},
   "outputs": [
    {
     "name": "stdout",
     "output_type": "stream",
     "text": [
      "Кобминаций районов-типов преступлений 1697, предсказаний 20364\n"
     ]
    }
   ],
   "source": [
    "print(f\"Кобминаций районов-типов преступлений {len(iter_boroughs)}, предсказаний {len(iter_new_predict)}\")\n"
   ]
  },
  {
   "cell_type": "code",
   "execution_count": 39,
   "id": "bfabf784-8117-4c8a-8940-f1b870cc6d23",
   "metadata": {},
   "outputs": [],
   "source": [
    "last_date = df.TimePeriod.max()\n",
    "months = pd.date_range(start=last_date + pd.DateOffset(months=1), periods=12, freq='M')"
   ]
  },
  {
   "cell_type": "code",
   "execution_count": 42,
   "id": "638656a4-528c-444d-a160-fced34cf9e5f",
   "metadata": {},
   "outputs": [],
   "source": [
    "df_pred = pd.DataFrame({\n",
    "    \"TimePeriod\": list(itertools.chain.from_iterable([months for x in iter_boroughs])),\n",
    "    \"CrimeSubtype\": list(itertools.chain.from_iterable([itertools.repeat(x, 12) for x in iter_crime_subtypes])),\n",
    "    \"BoroughName\": list(itertools.chain.from_iterable([itertools.repeat(x, 12) for x in iter_boroughs])),\n",
    "    \"pred\": iter_new_predict\n",
    "})"
   ]
  },
  {
   "cell_type": "code",
   "execution_count": 43,
   "id": "c53e3c19-78f5-444a-88a4-1b7f7e42eeba",
   "metadata": {},
   "outputs": [
    {
     "data": {
      "text/html": [
       "<div>\n",
       "<style scoped>\n",
       "    .dataframe tbody tr th:only-of-type {\n",
       "        vertical-align: middle;\n",
       "    }\n",
       "\n",
       "    .dataframe tbody tr th {\n",
       "        vertical-align: top;\n",
       "    }\n",
       "\n",
       "    .dataframe thead th {\n",
       "        text-align: right;\n",
       "    }\n",
       "</style>\n",
       "<table border=\"1\" class=\"dataframe\">\n",
       "  <thead>\n",
       "    <tr style=\"text-align: right;\">\n",
       "      <th></th>\n",
       "      <th>TimePeriod</th>\n",
       "      <th>CrimeSubtype</th>\n",
       "      <th>BoroughName</th>\n",
       "      <th>pred</th>\n",
       "    </tr>\n",
       "  </thead>\n",
       "  <tbody>\n",
       "    <tr>\n",
       "      <th>0</th>\n",
       "      <td>2023-09-30</td>\n",
       "      <td>Absconding from Lawful Custody</td>\n",
       "      <td>Barking and Dagenham</td>\n",
       "      <td>-0.004100</td>\n",
       "    </tr>\n",
       "    <tr>\n",
       "      <th>1</th>\n",
       "      <td>2023-10-31</td>\n",
       "      <td>Absconding from Lawful Custody</td>\n",
       "      <td>Barking and Dagenham</td>\n",
       "      <td>-0.004102</td>\n",
       "    </tr>\n",
       "    <tr>\n",
       "      <th>2</th>\n",
       "      <td>2023-11-30</td>\n",
       "      <td>Absconding from Lawful Custody</td>\n",
       "      <td>Barking and Dagenham</td>\n",
       "      <td>-0.004111</td>\n",
       "    </tr>\n",
       "    <tr>\n",
       "      <th>3</th>\n",
       "      <td>2023-12-31</td>\n",
       "      <td>Absconding from Lawful Custody</td>\n",
       "      <td>Barking and Dagenham</td>\n",
       "      <td>-0.004115</td>\n",
       "    </tr>\n",
       "    <tr>\n",
       "      <th>4</th>\n",
       "      <td>2024-01-31</td>\n",
       "      <td>Absconding from Lawful Custody</td>\n",
       "      <td>Barking and Dagenham</td>\n",
       "      <td>-0.004120</td>\n",
       "    </tr>\n",
       "    <tr>\n",
       "      <th>...</th>\n",
       "      <td>...</td>\n",
       "      <td>...</td>\n",
       "      <td>...</td>\n",
       "      <td>...</td>\n",
       "    </tr>\n",
       "    <tr>\n",
       "      <th>20359</th>\n",
       "      <td>2024-04-30</td>\n",
       "      <td>Wildlife Crime</td>\n",
       "      <td>Westminster</td>\n",
       "      <td>-0.027706</td>\n",
       "    </tr>\n",
       "    <tr>\n",
       "      <th>20360</th>\n",
       "      <td>2024-05-31</td>\n",
       "      <td>Wildlife Crime</td>\n",
       "      <td>Westminster</td>\n",
       "      <td>-0.022163</td>\n",
       "    </tr>\n",
       "    <tr>\n",
       "      <th>20361</th>\n",
       "      <td>2024-06-30</td>\n",
       "      <td>Wildlife Crime</td>\n",
       "      <td>Westminster</td>\n",
       "      <td>0.061208</td>\n",
       "    </tr>\n",
       "    <tr>\n",
       "      <th>20362</th>\n",
       "      <td>2024-07-31</td>\n",
       "      <td>Wildlife Crime</td>\n",
       "      <td>Westminster</td>\n",
       "      <td>0.144578</td>\n",
       "    </tr>\n",
       "    <tr>\n",
       "      <th>20363</th>\n",
       "      <td>2024-08-31</td>\n",
       "      <td>Wildlife Crime</td>\n",
       "      <td>Westminster</td>\n",
       "      <td>-0.022131</td>\n",
       "    </tr>\n",
       "  </tbody>\n",
       "</table>\n",
       "<p>20364 rows × 4 columns</p>\n",
       "</div>"
      ],
      "text/plain": [
       "      TimePeriod                    CrimeSubtype           BoroughName  \\\n",
       "0     2023-09-30  Absconding from Lawful Custody  Barking and Dagenham   \n",
       "1     2023-10-31  Absconding from Lawful Custody  Barking and Dagenham   \n",
       "2     2023-11-30  Absconding from Lawful Custody  Barking and Dagenham   \n",
       "3     2023-12-31  Absconding from Lawful Custody  Barking and Dagenham   \n",
       "4     2024-01-31  Absconding from Lawful Custody  Barking and Dagenham   \n",
       "...          ...                             ...                   ...   \n",
       "20359 2024-04-30                  Wildlife Crime           Westminster   \n",
       "20360 2024-05-31                  Wildlife Crime           Westminster   \n",
       "20361 2024-06-30                  Wildlife Crime           Westminster   \n",
       "20362 2024-07-31                  Wildlife Crime           Westminster   \n",
       "20363 2024-08-31                  Wildlife Crime           Westminster   \n",
       "\n",
       "           pred  \n",
       "0     -0.004100  \n",
       "1     -0.004102  \n",
       "2     -0.004111  \n",
       "3     -0.004115  \n",
       "4     -0.004120  \n",
       "...         ...  \n",
       "20359 -0.027706  \n",
       "20360 -0.022163  \n",
       "20361  0.061208  \n",
       "20362  0.144578  \n",
       "20363 -0.022131  \n",
       "\n",
       "[20364 rows x 4 columns]"
      ]
     },
     "execution_count": 43,
     "metadata": {},
     "output_type": "execute_result"
    }
   ],
   "source": [
    "df_pred"
   ]
  },
  {
   "cell_type": "markdown",
   "id": "a697f587-3b59-42d1-b4ce-2776ac3eafbc",
   "metadata": {},
   "source": [
    "# Сохраняем предсказания"
   ]
  },
  {
   "cell_type": "code",
   "execution_count": 46,
   "id": "018b06df-bd50-4e09-bf94-372244fbe25f",
   "metadata": {},
   "outputs": [],
   "source": [
    "df_pred.to_csv(\"../data/predictions/roman_3_predictions.csv\", index=False)"
   ]
  },
  {
   "cell_type": "markdown",
   "id": "4d9abebe-8c0a-4580-bcda-3d4044a06da9",
   "metadata": {},
   "source": [
    "# Определение рейтинга района"
   ]
  },
  {
   "cell_type": "code",
   "execution_count": 41,
   "id": "4640b446-e773-4c7c-9e15-6c7cdcef62ed",
   "metadata": {},
   "outputs": [],
   "source": [
    "df_rating = pd.read_csv(\"../data/predictions/roman_3_predictions.csv\")"
   ]
  },
  {
   "cell_type": "code",
   "execution_count": 42,
   "id": "c6c7632b-7741-432f-bf39-037335dc2f7b",
   "metadata": {},
   "outputs": [],
   "source": [
    "df_pivot = (\n",
    "    pd.pivot(\n",
    "        df_rating, \n",
    "        index=[\"BoroughName\", \"TimePeriod\"], \n",
    "        columns=[\"CrimeSubtype\"], \n",
    "        values=[\"pred\"]\n",
    "    )\n",
    "    .fillna(0)\n",
    ")"
   ]
  },
  {
   "cell_type": "code",
   "execution_count": 44,
   "id": "a2425b07-072f-4f1f-b236-ded3d0dd432d",
   "metadata": {},
   "outputs": [],
   "source": [
    "rating_raw = df_pivot.apply(lambda row: np.mean(row), axis=1)"
   ]
  },
  {
   "cell_type": "code",
   "execution_count": 47,
   "id": "1150666e-6679-44d0-9d00-12d10ad11fa1",
   "metadata": {},
   "outputs": [],
   "source": [
    "scaler = MinMaxScaler()\n",
    "scaled = scaler.fit_transform(rating_raw.values.reshape(-1,1))\n",
    "rating_scaled = pd.Series(scaled.reshape(-1,), index = rating_raw.index)"
   ]
  },
  {
   "cell_type": "code",
   "execution_count": 51,
   "id": "50b341b5-7232-4582-a6d2-37f97d890124",
   "metadata": {},
   "outputs": [],
   "source": [
    "rating_scaled = rating_scaled.reset_index()"
   ]
  },
  {
   "cell_type": "code",
   "execution_count": 52,
   "id": "78d3f874-40e5-4a1b-8c22-87620c081554",
   "metadata": {},
   "outputs": [],
   "source": [
    "rating_scaled.columns = [\"borough\", \"month\", \"rating\"]"
   ]
  },
  {
   "cell_type": "code",
   "execution_count": 54,
   "id": "fba0d197-5cac-436c-bd01-2f650a259a74",
   "metadata": {},
   "outputs": [],
   "source": [
    "rating_scaled.to_csv(\"../data/predictions/roman_3_rating.csv\", index=False)"
   ]
  },
  {
   "cell_type": "code",
   "execution_count": null,
   "id": "219c04f3-c144-48dc-93b7-4c842962f8ce",
   "metadata": {},
   "outputs": [],
   "source": []
  }
 ],
 "metadata": {
  "kernelspec": {
   "display_name": "Python 3 (ipykernel)",
   "language": "python",
   "name": "python3"
  },
  "language_info": {
   "codemirror_mode": {
    "name": "ipython",
    "version": 3
   },
   "file_extension": ".py",
   "mimetype": "text/x-python",
   "name": "python",
   "nbconvert_exporter": "python",
   "pygments_lexer": "ipython3",
   "version": "3.8.10"
  }
 },
 "nbformat": 4,
 "nbformat_minor": 5
}
