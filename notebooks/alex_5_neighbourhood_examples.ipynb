{
 "cells": [
  {
   "cell_type": "code",
   "execution_count": 1,
   "metadata": {},
   "outputs": [],
   "source": [
    "import numpy as np\n",
    "import pandas as pd\n",
    "\n",
    "from neighbourhood.utils.metrics import smape, wmape\n",
    "from sklearn.metrics import mean_absolute_percentage_error as mape"
   ]
  },
  {
   "cell_type": "code",
   "execution_count": 2,
   "metadata": {},
   "outputs": [
    {
     "name": "stdout",
     "output_type": "stream",
     "text": [
      "smape:  50.0\n",
      "wmape:  100.0\n",
      "mape:  1.0\n"
     ]
    }
   ],
   "source": [
    "y1 = np.array([1,1,1])\n",
    "y2 = np.array([2,2,2])\n",
    "print('smape: ', smape(y1,y2))\n",
    "print('wmape: ', wmape(y1,y2))\n",
    "print('mape: ', mape(y1,y2))"
   ]
  },
  {
   "cell_type": "code",
   "execution_count": 3,
   "metadata": {},
   "outputs": [
    {
     "name": "stdout",
     "output_type": "stream",
     "text": [
      "Index(['y1', 'y2'], dtype='object')\n"
     ]
    },
    {
     "data": {
      "text/html": [
       "<div>\n",
       "<style scoped>\n",
       "    .dataframe tbody tr th:only-of-type {\n",
       "        vertical-align: middle;\n",
       "    }\n",
       "\n",
       "    .dataframe tbody tr th {\n",
       "        vertical-align: top;\n",
       "    }\n",
       "\n",
       "    .dataframe thead th {\n",
       "        text-align: right;\n",
       "    }\n",
       "</style>\n",
       "<table border=\"1\" class=\"dataframe\">\n",
       "  <thead>\n",
       "    <tr style=\"text-align: right;\">\n",
       "      <th></th>\n",
       "      <th>y1</th>\n",
       "      <th>y2</th>\n",
       "    </tr>\n",
       "  </thead>\n",
       "  <tbody>\n",
       "    <tr>\n",
       "      <th>0</th>\n",
       "      <td>1</td>\n",
       "      <td>2</td>\n",
       "    </tr>\n",
       "    <tr>\n",
       "      <th>1</th>\n",
       "      <td>1</td>\n",
       "      <td>2</td>\n",
       "    </tr>\n",
       "    <tr>\n",
       "      <th>2</th>\n",
       "      <td>1</td>\n",
       "      <td>2</td>\n",
       "    </tr>\n",
       "  </tbody>\n",
       "</table>\n",
       "</div>"
      ],
      "text/plain": [
       "   y1  y2\n",
       "0   1   2\n",
       "1   1   2\n",
       "2   1   2"
      ]
     },
     "execution_count": 3,
     "metadata": {},
     "output_type": "execute_result"
    }
   ],
   "source": [
    "d = {'y1': [1, 1, 1], 'y2': [2, 2, 2]}\n",
    "df = pd.DataFrame(data=d)\n",
    "print(df.columns)\n",
    "df.head()"
   ]
  },
  {
   "cell_type": "code",
   "execution_count": 4,
   "metadata": {},
   "outputs": [
    {
     "data": {
      "text/plain": [
       "pandas.core.series.Series"
      ]
     },
     "execution_count": 4,
     "metadata": {},
     "output_type": "execute_result"
    }
   ],
   "source": [
    "type(df.loc[:,'y1'])"
   ]
  },
  {
   "cell_type": "code",
   "execution_count": 5,
   "metadata": {},
   "outputs": [
    {
     "name": "stdout",
     "output_type": "stream",
     "text": [
      "smape:  50.0\n",
      "wmape:  100.0\n",
      "mape:  1.0\n"
     ]
    }
   ],
   "source": [
    "print('smape: ', smape(df.loc[:,'y1'], df.loc[:,'y2']))\n",
    "print('wmape: ', wmape(df.loc[:,'y1'], df.loc[:,'y2']))\n",
    "print('mape: ', mape(df.loc[:,'y1'], df.loc[:,'y2']))"
   ]
  },
  {
   "cell_type": "code",
   "execution_count": 6,
   "metadata": {},
   "outputs": [
    {
     "name": "stdout",
     "output_type": "stream",
     "text": [
      "smape:  19.791666666666664\n",
      "wmape:  16.0\n",
      "mape:  0.3273809523809524\n"
     ]
    }
   ],
   "source": [
    "y1 = np.array([3, -0.5, 2, 7])\n",
    "y2 = np.array([2.5, 0.0, 2, 8])\n",
    "print('smape: ', smape(y1,y2))\n",
    "print('wmape: ', wmape(y1,y2))\n",
    "print('mape: ', mape(y1,y2))"
   ]
  },
  {
   "cell_type": "code",
   "execution_count": 7,
   "metadata": {},
   "outputs": [
    {
     "name": "stdout",
     "output_type": "stream",
     "text": [
      "Index(['y1', 'y2'], dtype='object')\n"
     ]
    },
    {
     "data": {
      "text/html": [
       "<div>\n",
       "<style scoped>\n",
       "    .dataframe tbody tr th:only-of-type {\n",
       "        vertical-align: middle;\n",
       "    }\n",
       "\n",
       "    .dataframe tbody tr th {\n",
       "        vertical-align: top;\n",
       "    }\n",
       "\n",
       "    .dataframe thead th {\n",
       "        text-align: right;\n",
       "    }\n",
       "</style>\n",
       "<table border=\"1\" class=\"dataframe\">\n",
       "  <thead>\n",
       "    <tr style=\"text-align: right;\">\n",
       "      <th></th>\n",
       "      <th>y1</th>\n",
       "      <th>y2</th>\n",
       "    </tr>\n",
       "  </thead>\n",
       "  <tbody>\n",
       "    <tr>\n",
       "      <th>0</th>\n",
       "      <td>3.0</td>\n",
       "      <td>2.5</td>\n",
       "    </tr>\n",
       "    <tr>\n",
       "      <th>1</th>\n",
       "      <td>-0.5</td>\n",
       "      <td>0.0</td>\n",
       "    </tr>\n",
       "    <tr>\n",
       "      <th>2</th>\n",
       "      <td>2.0</td>\n",
       "      <td>2.0</td>\n",
       "    </tr>\n",
       "    <tr>\n",
       "      <th>3</th>\n",
       "      <td>7.0</td>\n",
       "      <td>8.0</td>\n",
       "    </tr>\n",
       "  </tbody>\n",
       "</table>\n",
       "</div>"
      ],
      "text/plain": [
       "    y1   y2\n",
       "0  3.0  2.5\n",
       "1 -0.5  0.0\n",
       "2  2.0  2.0\n",
       "3  7.0  8.0"
      ]
     },
     "execution_count": 7,
     "metadata": {},
     "output_type": "execute_result"
    }
   ],
   "source": [
    "d = {'y1': [3, -0.5, 2, 7], 'y2': [2.5, 0.0, 2, 8]}\n",
    "df = pd.DataFrame(data=d)\n",
    "print(df.columns)\n",
    "df.head()"
   ]
  },
  {
   "cell_type": "code",
   "execution_count": 8,
   "metadata": {},
   "outputs": [
    {
     "name": "stdout",
     "output_type": "stream",
     "text": [
      "smape:  19.791666666666664\n",
      "wmape:  16.0\n",
      "mape:  0.3273809523809524\n"
     ]
    }
   ],
   "source": [
    "print('smape: ', smape(df.loc[:,'y1'], df.loc[:,'y2']))\n",
    "print('wmape: ', wmape(df.loc[:,'y1'], df.loc[:,'y2']))\n",
    "print('mape: ', mape(df.loc[:,'y1'], df.loc[:,'y2']))"
   ]
  },
  {
   "cell_type": "markdown",
   "metadata": {},
   "source": [
    "## проверка значений функций"
   ]
  },
  {
   "cell_type": "code",
   "execution_count": 9,
   "metadata": {},
   "outputs": [
    {
     "name": "stdout",
     "output_type": "stream",
     "text": [
      "smape:  0.0\n",
      "wmape:  0.0\n",
      "mape:  0.0\n"
     ]
    }
   ],
   "source": [
    "y1 = np.array([1,1,1])\n",
    "y2 = np.array([1,1,1])\n",
    "print('smape: ', smape(y1,y2))\n",
    "print('wmape: ', wmape(y1,y2))\n",
    "print('mape: ', mape(y1,y2))"
   ]
  },
  {
   "cell_type": "code",
   "execution_count": 10,
   "metadata": {},
   "outputs": [
    {
     "name": "stdout",
     "output_type": "stream",
     "text": [
      "smape:  100.0\n",
      "wmape:  300\n",
      "mape:  4503599627370496.0\n"
     ]
    }
   ],
   "source": [
    "y1 = np.array([0,0,0])\n",
    "y2 = np.array([1,1,1])\n",
    "print('smape: ', smape(y1,y2))\n",
    "print('wmape: ', wmape(y1,y2))\n",
    "print('mape: ', mape(y1,y2))"
   ]
  },
  {
   "cell_type": "code",
   "execution_count": 11,
   "metadata": {},
   "outputs": [
    {
     "name": "stdout",
     "output_type": "stream",
     "text": [
      "smape:  100.0\n",
      "wmape:  100.0\n",
      "mape:  1.0\n"
     ]
    }
   ],
   "source": [
    "y1 = np.array([1,1,1])\n",
    "y2 = np.array([0,0,0])\n",
    "print('smape: ', smape(y1,y2))\n",
    "print('wmape: ', wmape(y1,y2))\n",
    "print('mape: ', mape(y1,y2))"
   ]
  },
  {
   "cell_type": "code",
   "execution_count": 12,
   "metadata": {},
   "outputs": [
    {
     "name": "stdout",
     "output_type": "stream",
     "text": [
      "smape:  16.666666666666668\n",
      "wmape:  25.0\n",
      "mape:  0.16666666666666666\n"
     ]
    }
   ],
   "source": [
    "y1 = np.array([1,2,1])\n",
    "y2 = np.array([1,1,1])\n",
    "print('smape: ', smape(y1,y2))\n",
    "print('wmape: ', wmape(y1,y2))\n",
    "print('mape: ', mape(y1,y2))"
   ]
  },
  {
   "cell_type": "code",
   "execution_count": 13,
   "metadata": {},
   "outputs": [
    {
     "name": "stdout",
     "output_type": "stream",
     "text": [
      "smape:  16.666666666666668\n",
      "wmape:  33.333333333333336\n",
      "mape:  0.3333333333333333\n"
     ]
    }
   ],
   "source": [
    "y1 = np.array([1,1,1])\n",
    "y2 = np.array([1,2,1])\n",
    "print('smape: ', smape(y1,y2))\n",
    "print('wmape: ', wmape(y1,y2))\n",
    "print('mape: ', mape(y1,y2))"
   ]
  }
 ],
 "metadata": {
  "kernelspec": {
   "display_name": "venv",
   "language": "python",
   "name": "python3"
  },
  "language_info": {
   "codemirror_mode": {
    "name": "ipython",
    "version": 3
   },
   "file_extension": ".py",
   "mimetype": "text/x-python",
   "name": "python",
   "nbconvert_exporter": "python",
   "pygments_lexer": "ipython3",
   "version": "3.11.6"
  }
 },
 "nbformat": 4,
 "nbformat_minor": 2
}
