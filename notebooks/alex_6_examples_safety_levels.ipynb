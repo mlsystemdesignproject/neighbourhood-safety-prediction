{
 "cells": [
  {
   "cell_type": "code",
   "execution_count": 1,
   "metadata": {},
   "outputs": [],
   "source": [
    "import pandas as pd\n",
    "from neighbourhood.models.safety import safety_levels_for_one_crime_vs_city, safety_levels_for_one_crime_vs_last_year"
   ]
  },
  {
   "cell_type": "markdown",
   "metadata": {},
   "source": [
    "Параметры, которые мне нужны для функции:\n",
    "- population = число жителей в каждом районе и в городе в целом\n",
    "- cdp = predictions + данные за последний год \n",
    "- data_pred = дата с которой был сделал прогноз,\n",
    "- data_hist = дата начиная с которой мы берем исторические данные для осреднения,\n",
    "\n"
   ]
  },
  {
   "cell_type": "code",
   "execution_count": 2,
   "metadata": {},
   "outputs": [],
   "source": [
    "# crimes_data_predictions cdp\n",
    "cdp = pd.read_csv('../data/predictions/predictions.csv')\n",
    "cdp[\"month\"] = pd.to_datetime(cdp.month)\n",
    "cdp[\"month\"] = cdp[\"month\"].to_numpy().astype(\"datetime64[M]\")\n",
    "cdp[\"month\"] = pd.to_datetime(cdp.month)"
   ]
  },
  {
   "cell_type": "code",
   "execution_count": 3,
   "metadata": {},
   "outputs": [
    {
     "data": {
      "text/html": [
       "<div>\n",
       "<style scoped>\n",
       "    .dataframe tbody tr th:only-of-type {\n",
       "        vertical-align: middle;\n",
       "    }\n",
       "\n",
       "    .dataframe tbody tr th {\n",
       "        vertical-align: top;\n",
       "    }\n",
       "\n",
       "    .dataframe thead th {\n",
       "        text-align: right;\n",
       "    }\n",
       "</style>\n",
       "<table border=\"1\" class=\"dataframe\">\n",
       "  <thead>\n",
       "    <tr style=\"text-align: right;\">\n",
       "      <th></th>\n",
       "      <th>borough</th>\n",
       "      <th>crime_type</th>\n",
       "      <th>crime_subtype</th>\n",
       "      <th>value</th>\n",
       "      <th>month</th>\n",
       "    </tr>\n",
       "  </thead>\n",
       "  <tbody>\n",
       "    <tr>\n",
       "      <th>0</th>\n",
       "      <td>Lewisham</td>\n",
       "      <td>Miscellaneous Crimes Against Society</td>\n",
       "      <td>Possession of False Documents</td>\n",
       "      <td>0.0</td>\n",
       "      <td>2022-11-01</td>\n",
       "    </tr>\n",
       "    <tr>\n",
       "      <th>1</th>\n",
       "      <td>Lewisham</td>\n",
       "      <td>Miscellaneous Crimes Against Society</td>\n",
       "      <td>Profitting From or Concealing Proceeds of Crime</td>\n",
       "      <td>0.0</td>\n",
       "      <td>2022-11-01</td>\n",
       "    </tr>\n",
       "    <tr>\n",
       "      <th>2</th>\n",
       "      <td>Lewisham</td>\n",
       "      <td>Miscellaneous Crimes Against Society</td>\n",
       "      <td>Threat or Possession With Intent to Commit Cri...</td>\n",
       "      <td>9.0</td>\n",
       "      <td>2022-11-01</td>\n",
       "    </tr>\n",
       "    <tr>\n",
       "      <th>3</th>\n",
       "      <td>Lewisham</td>\n",
       "      <td>Possession of Weapons</td>\n",
       "      <td>Possession of Other Weapon</td>\n",
       "      <td>9.0</td>\n",
       "      <td>2022-11-01</td>\n",
       "    </tr>\n",
       "    <tr>\n",
       "      <th>4</th>\n",
       "      <td>Lewisham</td>\n",
       "      <td>Possession of Weapons</td>\n",
       "      <td>Possession of Article with Blade or Point</td>\n",
       "      <td>10.0</td>\n",
       "      <td>2022-11-01</td>\n",
       "    </tr>\n",
       "  </tbody>\n",
       "</table>\n",
       "</div>"
      ],
      "text/plain": [
       "    borough                            crime_type  \\\n",
       "0  Lewisham  Miscellaneous Crimes Against Society   \n",
       "1  Lewisham  Miscellaneous Crimes Against Society   \n",
       "2  Lewisham  Miscellaneous Crimes Against Society   \n",
       "3  Lewisham                 Possession of Weapons   \n",
       "4  Lewisham                 Possession of Weapons   \n",
       "\n",
       "                                       crime_subtype  value      month  \n",
       "0                      Possession of False Documents    0.0 2022-11-01  \n",
       "1    Profitting From or Concealing Proceeds of Crime    0.0 2022-11-01  \n",
       "2  Threat or Possession With Intent to Commit Cri...    9.0 2022-11-01  \n",
       "3                         Possession of Other Weapon    9.0 2022-11-01  \n",
       "4          Possession of Article with Blade or Point   10.0 2022-11-01  "
      ]
     },
     "execution_count": 3,
     "metadata": {},
     "output_type": "execute_result"
    }
   ],
   "source": [
    "cdp.head()"
   ]
  },
  {
   "cell_type": "code",
   "execution_count": 6,
   "metadata": {},
   "outputs": [
    {
     "data": {
      "text/html": [
       "<div>\n",
       "<style scoped>\n",
       "    .dataframe tbody tr th:only-of-type {\n",
       "        vertical-align: middle;\n",
       "    }\n",
       "\n",
       "    .dataframe tbody tr th {\n",
       "        vertical-align: top;\n",
       "    }\n",
       "\n",
       "    .dataframe thead th {\n",
       "        text-align: right;\n",
       "    }\n",
       "</style>\n",
       "<table border=\"1\" class=\"dataframe\">\n",
       "  <thead>\n",
       "    <tr style=\"text-align: right;\">\n",
       "      <th></th>\n",
       "      <th>Date</th>\n",
       "      <th>Area</th>\n",
       "      <th>Area (sq km)</th>\n",
       "      <th>Population</th>\n",
       "    </tr>\n",
       "  </thead>\n",
       "  <tbody>\n",
       "    <tr>\n",
       "      <th>0</th>\n",
       "      <td>2010-03</td>\n",
       "      <td>Barking and Dagenham</td>\n",
       "      <td>36</td>\n",
       "      <td>177400.0</td>\n",
       "    </tr>\n",
       "    <tr>\n",
       "      <th>1</th>\n",
       "      <td>2010-03</td>\n",
       "      <td>Barnet</td>\n",
       "      <td>87</td>\n",
       "      <td>340300.0</td>\n",
       "    </tr>\n",
       "    <tr>\n",
       "      <th>2</th>\n",
       "      <td>2010-03</td>\n",
       "      <td>Bexley</td>\n",
       "      <td>61</td>\n",
       "      <td>227500.0</td>\n",
       "    </tr>\n",
       "    <tr>\n",
       "      <th>3</th>\n",
       "      <td>2010-03</td>\n",
       "      <td>Brent</td>\n",
       "      <td>43</td>\n",
       "      <td>295300.0</td>\n",
       "    </tr>\n",
       "    <tr>\n",
       "      <th>4</th>\n",
       "      <td>2010-03</td>\n",
       "      <td>Bromley</td>\n",
       "      <td>150</td>\n",
       "      <td>303800.0</td>\n",
       "    </tr>\n",
       "  </tbody>\n",
       "</table>\n",
       "</div>"
      ],
      "text/plain": [
       "      Date                  Area  Area (sq km)  Population\n",
       "0  2010-03  Barking and Dagenham            36    177400.0\n",
       "1  2010-03                Barnet            87    340300.0\n",
       "2  2010-03                Bexley            61    227500.0\n",
       "3  2010-03                 Brent            43    295300.0\n",
       "4  2010-03               Bromley           150    303800.0"
      ]
     },
     "execution_count": 6,
     "metadata": {},
     "output_type": "execute_result"
    }
   ],
   "source": [
    "population = pd.read_csv('../data/MPS/population_area.csv')\n",
    "population.head()"
   ]
  },
  {
   "cell_type": "code",
   "execution_count": 4,
   "metadata": {},
   "outputs": [
    {
     "name": "stdout",
     "output_type": "stream",
     "text": [
      "Here\n"
     ]
    }
   ],
   "source": [
    "safety_levels_for_one_crime_vs_city()"
   ]
  },
  {
   "cell_type": "code",
   "execution_count": 5,
   "metadata": {},
   "outputs": [
    {
     "name": "stdout",
     "output_type": "stream",
     "text": [
      "Here2\n"
     ]
    }
   ],
   "source": [
    "safety_levels_for_one_crime_vs_last_year()"
   ]
  }
 ],
 "metadata": {
  "kernelspec": {
   "display_name": "venv",
   "language": "python",
   "name": "python3"
  },
  "language_info": {
   "codemirror_mode": {
    "name": "ipython",
    "version": 3
   },
   "file_extension": ".py",
   "mimetype": "text/x-python",
   "name": "python",
   "nbconvert_exporter": "python",
   "pygments_lexer": "ipython3",
   "version": "3.11.6"
  }
 },
 "nbformat": 4,
 "nbformat_minor": 2
}
